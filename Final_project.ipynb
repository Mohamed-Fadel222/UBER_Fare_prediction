{
 "cells": [
  {
   "cell_type": "code",
   "execution_count": 1,
   "metadata": {},
   "outputs": [
    {
     "name": "stderr",
     "output_type": "stream",
     "text": [
      "C:\\Users\\hanim\\AppData\\Local\\Temp\\ipykernel_15708\\3964460364.py:1: DeprecationWarning: \n",
      "Pyarrow will become a required dependency of pandas in the next major release of pandas (pandas 3.0),\n",
      "(to allow more performant data types, such as the Arrow string type, and better interoperability with other libraries)\n",
      "but was not found to be installed on your system.\n",
      "If this would cause problems for you,\n",
      "please provide us feedback at https://github.com/pandas-dev/pandas/issues/54466\n",
      "        \n",
      "  import pandas as pd\n"
     ]
    }
   ],
   "source": [
    "import pandas as pd\n",
    "import geopy.distance\n",
    "import numpy as np\n",
    "import seaborn as sns\n",
    "import matplotlib.pyplot as plt\n",
    "from sklearn.preprocessing import LabelEncoder, StandardScaler\n",
    "from sklearn.model_selection import train_test_split\n",
    "from sklearn.linear_model import LinearRegression\n",
    "from sklearn.linear_model import HuberRegressor\n",
    "from sklearn.linear_model import Ridge\n",
    "from sklearn.linear_model import Lasso\n",
    "from sklearn.linear_model import ElasticNet\n",
    "from sklearn.tree import DecisionTreeRegressor\n",
    "from sklearn.ensemble import RandomForestRegressor\n",
    "from sklearn.metrics import mean_squared_error"
   ]
  },
  {
   "cell_type": "code",
   "execution_count": 2,
   "metadata": {},
   "outputs": [
    {
     "data": {
      "text/html": [
       "<div>\n",
       "<style scoped>\n",
       "    .dataframe tbody tr th:only-of-type {\n",
       "        vertical-align: middle;\n",
       "    }\n",
       "\n",
       "    .dataframe tbody tr th {\n",
       "        vertical-align: top;\n",
       "    }\n",
       "\n",
       "    .dataframe thead th {\n",
       "        text-align: right;\n",
       "    }\n",
       "</style>\n",
       "<table border=\"1\" class=\"dataframe\">\n",
       "  <thead>\n",
       "    <tr style=\"text-align: right;\">\n",
       "      <th></th>\n",
       "      <th>Unnamed: 0</th>\n",
       "      <th>key</th>\n",
       "      <th>fare_amount</th>\n",
       "      <th>pickup_datetime</th>\n",
       "      <th>pickup_longitude</th>\n",
       "      <th>pickup_latitude</th>\n",
       "      <th>dropoff_longitude</th>\n",
       "      <th>dropoff_latitude</th>\n",
       "      <th>passenger_count</th>\n",
       "    </tr>\n",
       "  </thead>\n",
       "  <tbody>\n",
       "    <tr>\n",
       "      <th>0</th>\n",
       "      <td>24238194</td>\n",
       "      <td>2015-05-07 19:52:06.0000003</td>\n",
       "      <td>7.5</td>\n",
       "      <td>2015-05-07 19:52:06 UTC</td>\n",
       "      <td>-73.999817</td>\n",
       "      <td>40.738354</td>\n",
       "      <td>-73.999512</td>\n",
       "      <td>40.723217</td>\n",
       "      <td>1</td>\n",
       "    </tr>\n",
       "    <tr>\n",
       "      <th>1</th>\n",
       "      <td>27835199</td>\n",
       "      <td>2009-07-17 20:04:56.0000002</td>\n",
       "      <td>7.7</td>\n",
       "      <td>2009-07-17 20:04:56 UTC</td>\n",
       "      <td>-73.994355</td>\n",
       "      <td>40.728225</td>\n",
       "      <td>-73.994710</td>\n",
       "      <td>40.750325</td>\n",
       "      <td>1</td>\n",
       "    </tr>\n",
       "    <tr>\n",
       "      <th>2</th>\n",
       "      <td>44984355</td>\n",
       "      <td>2009-08-24 21:45:00.00000061</td>\n",
       "      <td>12.9</td>\n",
       "      <td>2009-08-24 21:45:00 UTC</td>\n",
       "      <td>-74.005043</td>\n",
       "      <td>40.740770</td>\n",
       "      <td>-73.962565</td>\n",
       "      <td>40.772647</td>\n",
       "      <td>1</td>\n",
       "    </tr>\n",
       "    <tr>\n",
       "      <th>3</th>\n",
       "      <td>25894730</td>\n",
       "      <td>2009-06-26 08:22:21.0000001</td>\n",
       "      <td>5.3</td>\n",
       "      <td>2009-06-26 08:22:21 UTC</td>\n",
       "      <td>-73.976124</td>\n",
       "      <td>40.790844</td>\n",
       "      <td>-73.965316</td>\n",
       "      <td>40.803349</td>\n",
       "      <td>3</td>\n",
       "    </tr>\n",
       "    <tr>\n",
       "      <th>4</th>\n",
       "      <td>17610152</td>\n",
       "      <td>2014-08-28 17:47:00.000000188</td>\n",
       "      <td>16.0</td>\n",
       "      <td>2014-08-28 17:47:00 UTC</td>\n",
       "      <td>-73.925023</td>\n",
       "      <td>40.744085</td>\n",
       "      <td>-73.973082</td>\n",
       "      <td>40.761247</td>\n",
       "      <td>5</td>\n",
       "    </tr>\n",
       "  </tbody>\n",
       "</table>\n",
       "</div>"
      ],
      "text/plain": [
       "   Unnamed: 0                            key  fare_amount  \\\n",
       "0    24238194    2015-05-07 19:52:06.0000003          7.5   \n",
       "1    27835199    2009-07-17 20:04:56.0000002          7.7   \n",
       "2    44984355   2009-08-24 21:45:00.00000061         12.9   \n",
       "3    25894730    2009-06-26 08:22:21.0000001          5.3   \n",
       "4    17610152  2014-08-28 17:47:00.000000188         16.0   \n",
       "\n",
       "           pickup_datetime  pickup_longitude  pickup_latitude  \\\n",
       "0  2015-05-07 19:52:06 UTC        -73.999817        40.738354   \n",
       "1  2009-07-17 20:04:56 UTC        -73.994355        40.728225   \n",
       "2  2009-08-24 21:45:00 UTC        -74.005043        40.740770   \n",
       "3  2009-06-26 08:22:21 UTC        -73.976124        40.790844   \n",
       "4  2014-08-28 17:47:00 UTC        -73.925023        40.744085   \n",
       "\n",
       "   dropoff_longitude  dropoff_latitude  passenger_count  \n",
       "0         -73.999512         40.723217                1  \n",
       "1         -73.994710         40.750325                1  \n",
       "2         -73.962565         40.772647                1  \n",
       "3         -73.965316         40.803349                3  \n",
       "4         -73.973082         40.761247                5  "
      ]
     },
     "execution_count": 2,
     "metadata": {},
     "output_type": "execute_result"
    }
   ],
   "source": [
    "data=pd.read_csv('uber.csv')\n",
    "\n",
    "data.head()"
   ]
  },
  {
   "cell_type": "code",
   "execution_count": 3,
   "metadata": {},
   "outputs": [
    {
     "data": {
      "text/plain": [
       "{'whiskers': [<matplotlib.lines.Line2D at 0x27deb12c3b0>,\n",
       "  <matplotlib.lines.Line2D at 0x27deb12c6e0>],\n",
       " 'caps': [<matplotlib.lines.Line2D at 0x27deb12ca10>,\n",
       "  <matplotlib.lines.Line2D at 0x27deb12cd40>],\n",
       " 'boxes': [<matplotlib.lines.Line2D at 0x27de3b77ad0>],\n",
       " 'medians': [<matplotlib.lines.Line2D at 0x27deb12d070>],\n",
       " 'fliers': [<matplotlib.lines.Line2D at 0x27deb12d370>],\n",
       " 'means': []}"
      ]
     },
     "execution_count": 3,
     "metadata": {},
     "output_type": "execute_result"
    },
    {
     "data": {
      "image/png": "[encoded data removed]",
      "text/plain": [
       "<Figure size 640x480 with 1 Axes>"
      ]
     },
     "metadata": {},
     "output_type": "display_data"
    }
   ],
   "source": [
    "plt.boxplot(data[\"fare_amount\"])\n"
   ]
  },
  {
   "cell_type": "code",
   "execution_count": 4,
   "metadata": {},
   "outputs": [
    {
     "data": {
      "text/plain": [
       "(182833, 9)"
      ]
     },
     "execution_count": 4,
     "metadata": {},
     "output_type": "execute_result"
    }
   ],
   "source": [
    "q1=data['fare_amount'].quantile(0.25)\n",
    "q3=data['fare_amount'].quantile(0.75)\n",
    "IQR=q3-q1\n",
    "LB=q1-1.5*IQR\n",
    "UB=q3+1.5*IQR\n",
    "data = data[(data['fare_amount']>=LB) & (data['fare_amount']<=UB) ]\n",
    "data.shape\n"
   ]
  },
  {
   "cell_type": "code",
   "execution_count": 5,
   "metadata": {},
   "outputs": [
    {
     "data": {
      "text/plain": [
       "{'whiskers': [<matplotlib.lines.Line2D at 0x27deb1cd370>,\n",
       "  <matplotlib.lines.Line2D at 0x27deb1cd6a0>],\n",
       " 'caps': [<matplotlib.lines.Line2D at 0x27deb1cd9a0>,\n",
       "  <matplotlib.lines.Line2D at 0x27deb1cdca0>],\n",
       " 'boxes': [<matplotlib.lines.Line2D at 0x27deb1cd160>],\n",
       " 'medians': [<matplotlib.lines.Line2D at 0x27deb1cdf70>],\n",
       " 'fliers': [<matplotlib.lines.Line2D at 0x27deb1ce270>],\n",
       " 'means': []}"
      ]
     },
     "execution_count": 5,
     "metadata": {},
     "output_type": "execute_result"
    },
    {
     "data": {
      "image/png": "[encoded data removed]",
      "text/plain": [
       "<Figure size 640x480 with 1 Axes>"
      ]
     },
     "metadata": {},
     "output_type": "display_data"
    }
   ],
   "source": [
    "plt.boxplot(data[\"fare_amount\"])"
   ]
  },
  {
   "cell_type": "code",
   "execution_count": 6,
   "metadata": {},
   "outputs": [],
   "source": [
    "data.drop(['passenger_count','Unnamed: 0','key'],axis=1,inplace=True)"
   ]
  },
  {
   "cell_type": "code",
   "execution_count": 7,
   "metadata": {},
   "outputs": [
    {
     "name": "stdout",
     "output_type": "stream",
     "text": [
      "<class 'pandas.core.frame.DataFrame'>\n",
      "Index: 182833 entries, 0 to 199999\n",
      "Data columns (total 6 columns):\n",
      " #   Column             Non-Null Count   Dtype  \n",
      "---  ------             --------------   -----  \n",
      " 0   fare_amount        182833 non-null  float64\n",
      " 1   pickup_datetime    182833 non-null  object \n",
      " 2   pickup_longitude   182833 non-null  float64\n",
      " 3   pickup_latitude    182833 non-null  float64\n",
      " 4   dropoff_longitude  182833 non-null  float64\n",
      " 5   dropoff_latitude   182833 non-null  float64\n",
      "dtypes: float64(5), object(1)\n",
      "memory usage: 9.8+ MB\n"
     ]
    }
   ],
   "source": [
    "data.info()\n",
    "\n",
    "data.isnull().sum()\n",
    "\n",
    "data=data.dropna()"
   ]
  },
  {
   "cell_type": "code",
   "execution_count": 8,
   "metadata": {},
   "outputs": [
    {
     "name": "stdout",
     "output_type": "stream",
     "text": [
      "After dropping the data, the final shape is (177704, 6)\n"
     ]
    }
   ],
   "source": [
    "data=data[~((data['pickup_latitude']==data['dropoff_latitude'])&(data['pickup_longitude']==data['dropoff_longitude']))]\n",
    "print(f'After dropping the data, the final shape is {data.shape}')"
   ]
  },
  {
   "cell_type": "code",
   "execution_count": 9,
   "metadata": {},
   "outputs": [
    {
     "name": "stdout",
     "output_type": "stream",
     "text": [
      "After dropping the data, the final shape is (177698, 6)\n"
     ]
    }
   ],
   "source": [
    "data=data[~(data['fare_amount']<0)]\n",
    "print(f'After dropping the data, the final shape is {data.shape}')"
   ]
  },
  {
   "cell_type": "code",
   "execution_count": 10,
   "metadata": {},
   "outputs": [],
   "source": [
    "data = data[(data.pickup_latitude<90) & (data.dropoff_latitude<90) &\n",
    "        (data.pickup_latitude>-90) & (data.dropoff_latitude>-90) &\n",
    "        (data.pickup_longitude<180) & (data.dropoff_longitude<180) &\n",
    "        (data.pickup_longitude>-180) & (data.dropoff_longitude>-180)]"
   ]
  },
  {
   "cell_type": "code",
   "execution_count": 11,
   "metadata": {},
   "outputs": [],
   "source": [
    "data.pickup_datetime=pd.to_datetime(data.pickup_datetime)\n",
    "\n",
    "data['year'] = data.pickup_datetime.dt.year\n",
    "data['month'] = data.pickup_datetime.dt.month\n",
    "data['weekday'] = data.pickup_datetime.dt.weekday\n",
    "data['hour'] = data.pickup_datetime.dt.hour"
   ]
  },
  {
   "cell_type": "code",
   "execution_count": 12,
   "metadata": {},
   "outputs": [
    {
     "name": "stderr",
     "output_type": "stream",
     "text": [
      "C:\\Users\\hanim\\AppData\\Local\\Temp\\ipykernel_15708\\854322768.py:3: FutureWarning: \n",
      "\n",
      "Passing `palette` without assigning `hue` is deprecated and will be removed in v0.14.0. Assign the `x` variable to `hue` and set `legend=False` for the same effect.\n",
      "\n",
      "  sns.barplot(x=data['year'],y=data['fare_amount'],palette='viridis')\n"
     ]
    },
    {
     "data": {
      "image/png": "[encoded data removed]",
      "text/plain": [
       "<Figure size 1200x2000 with 1 Axes>"
      ]
     },
     "metadata": {},
     "output_type": "display_data"
    }
   ],
   "source": [
    "plt.figure(figsize=(12,20))\n",
    "plt.title('year vs fare amount')\n",
    "sns.barplot(x=data['year'],y=data['fare_amount'],palette='viridis')\n",
    "plt.xlabel('Year')\n",
    "plt.ylabel('Average fare amount')\n",
    "plt.show()"
   ]
  },
  {
   "cell_type": "code",
   "execution_count": 13,
   "metadata": {},
   "outputs": [
    {
     "name": "stderr",
     "output_type": "stream",
     "text": [
      "C:\\Users\\hanim\\AppData\\Local\\Temp\\ipykernel_15708\\2087143356.py:3: FutureWarning: \n",
      "\n",
      "Passing `palette` without assigning `hue` is deprecated and will be removed in v0.14.0. Assign the `x` variable to `hue` and set `legend=False` for the same effect.\n",
      "\n",
      "  sns.barplot(x=data['month'],y=data['fare_amount'],palette='viridis',estimator=sum )\n"
     ]
    },
    {
     "data": {
      "image/png": "[encoded data removed]",
      "text/plain": [
       "<Figure size 1200x2000 with 1 Axes>"
      ]
     },
     "metadata": {},
     "output_type": "display_data"
    }
   ],
   "source": [
    "\n",
    "plt.figure(figsize=(12,20))\n",
    "plt.title('Month vs fare amount')\n",
    "sns.barplot(x=data['month'],y=data['fare_amount'],palette='viridis',estimator=sum )\n",
    "plt.xlabel('Month')\n",
    "plt.ylabel('fare amount')\n",
    "plt.show()"
   ]
  },
  {
   "cell_type": "code",
   "execution_count": 14,
   "metadata": {},
   "outputs": [
    {
     "name": "stderr",
     "output_type": "stream",
     "text": [
      "C:\\Users\\hanim\\AppData\\Local\\Temp\\ipykernel_15708\\3880263846.py:3: FutureWarning: \n",
      "\n",
      "Passing `palette` without assigning `hue` is deprecated and will be removed in v0.14.0. Assign the `x` variable to `hue` and set `legend=False` for the same effect.\n",
      "\n",
      "  sns.barplot(x=data['hour'],y=data['fare_amount'],palette='viridis',estimator=sum)\n"
     ]
    },
    {
     "data": {
      "image/png": "[encoded data removed]",
      "text/plain": [
       "<Figure size 1200x2000 with 1 Axes>"
      ]
     },
     "metadata": {},
     "output_type": "display_data"
    }
   ],
   "source": [
    "plt.figure(figsize=(12,20))\n",
    "plt.title('hour vs fare amount')\n",
    "sns.barplot(x=data['hour'],y=data['fare_amount'],palette='viridis',estimator=sum)\n",
    "plt.xlabel('hour')\n",
    "plt.ylabel('fare amount')\n",
    "plt.show()"
   ]
  },
  {
   "cell_type": "code",
   "execution_count": 15,
   "metadata": {},
   "outputs": [
    {
     "name": "stderr",
     "output_type": "stream",
     "text": [
      "C:\\Users\\hanim\\AppData\\Local\\Temp\\ipykernel_15708\\1151208871.py:3: FutureWarning: \n",
      "\n",
      "Passing `palette` without assigning `hue` is deprecated and will be removed in v0.14.0. Assign the `x` variable to `hue` and set `legend=False` for the same effect.\n",
      "\n",
      "  sns.barplot(x=data['weekday'],y=data['fare_amount'],palette='viridis',estimator=sum)\n"
     ]
    },
    {
     "data": {
      "image/png": "[encoded data removed]",
      "text/plain": [
       "<Figure size 1200x2000 with 1 Axes>"
      ]
     },
     "metadata": {},
     "output_type": "display_data"
    }
   ],
   "source": [
    "plt.figure(figsize=(12,20))\n",
    "plt.title('days vs fare amount')\n",
    "sns.barplot(x=data['weekday'],y=data['fare_amount'],palette='viridis',estimator=sum)\n",
    "plt.xlabel('days')\n",
    "plt.ylabel('fare amount')\n",
    "plt.show()"
   ]
  },
  {
   "cell_type": "code",
   "execution_count": 16,
   "metadata": {},
   "outputs": [],
   "source": [
    "data['distance']=[round(geopy.distance.distance((data.pickup_latitude[i], data.pickup_longitude[i]),(data.dropoff_latitude[i], data.dropoff_longitude[i])).m,2) for i in data.index]"
   ]
  },
  {
   "cell_type": "code",
   "execution_count": 17,
   "metadata": {},
   "outputs": [],
   "source": [
    "data.drop(['pickup_datetime'], axis=1, inplace=True)"
   ]
  },
  {
   "cell_type": "code",
   "execution_count": 18,
   "metadata": {},
   "outputs": [],
   "source": [
    "original_data = data.copy(deep=True)"
   ]
  },
  {
   "cell_type": "code",
   "execution_count": 19,
   "metadata": {},
   "outputs": [
    {
     "data": {
      "text/html": [
       "<div>\n",
       "<style scoped>\n",
       "    .dataframe tbody tr th:only-of-type {\n",
       "        vertical-align: middle;\n",
       "    }\n",
       "\n",
       "    .dataframe tbody tr th {\n",
       "        vertical-align: top;\n",
       "    }\n",
       "\n",
       "    .dataframe thead th {\n",
       "        text-align: right;\n",
       "    }\n",
       "</style>\n",
       "<table border=\"1\" class=\"dataframe\">\n",
       "  <thead>\n",
       "    <tr style=\"text-align: right;\">\n",
       "      <th></th>\n",
       "      <th>fare_amount</th>\n",
       "      <th>pickup_longitude</th>\n",
       "      <th>pickup_latitude</th>\n",
       "      <th>dropoff_longitude</th>\n",
       "      <th>dropoff_latitude</th>\n",
       "      <th>year</th>\n",
       "      <th>month</th>\n",
       "      <th>weekday</th>\n",
       "      <th>hour</th>\n",
       "      <th>distance</th>\n",
       "    </tr>\n",
       "  </thead>\n",
       "  <tbody>\n",
       "    <tr>\n",
       "      <th>0</th>\n",
       "      <td>7.5</td>\n",
       "      <td>-73.999817</td>\n",
       "      <td>40.738354</td>\n",
       "      <td>-73.999512</td>\n",
       "      <td>40.723217</td>\n",
       "      <td>2015</td>\n",
       "      <td>5</td>\n",
       "      <td>3</td>\n",
       "      <td>19</td>\n",
       "      <td>1681.11</td>\n",
       "    </tr>\n",
       "    <tr>\n",
       "      <th>1</th>\n",
       "      <td>7.7</td>\n",
       "      <td>-73.994355</td>\n",
       "      <td>40.728225</td>\n",
       "      <td>-73.994710</td>\n",
       "      <td>40.750325</td>\n",
       "      <td>2009</td>\n",
       "      <td>7</td>\n",
       "      <td>4</td>\n",
       "      <td>20</td>\n",
       "      <td>2454.36</td>\n",
       "    </tr>\n",
       "    <tr>\n",
       "      <th>2</th>\n",
       "      <td>12.9</td>\n",
       "      <td>-74.005043</td>\n",
       "      <td>40.740770</td>\n",
       "      <td>-73.962565</td>\n",
       "      <td>40.772647</td>\n",
       "      <td>2009</td>\n",
       "      <td>8</td>\n",
       "      <td>0</td>\n",
       "      <td>21</td>\n",
       "      <td>5039.60</td>\n",
       "    </tr>\n",
       "    <tr>\n",
       "      <th>3</th>\n",
       "      <td>5.3</td>\n",
       "      <td>-73.976124</td>\n",
       "      <td>40.790844</td>\n",
       "      <td>-73.965316</td>\n",
       "      <td>40.803349</td>\n",
       "      <td>2009</td>\n",
       "      <td>6</td>\n",
       "      <td>4</td>\n",
       "      <td>8</td>\n",
       "      <td>1661.44</td>\n",
       "    </tr>\n",
       "    <tr>\n",
       "      <th>4</th>\n",
       "      <td>16.0</td>\n",
       "      <td>-73.925023</td>\n",
       "      <td>40.744085</td>\n",
       "      <td>-73.973082</td>\n",
       "      <td>40.761247</td>\n",
       "      <td>2014</td>\n",
       "      <td>8</td>\n",
       "      <td>3</td>\n",
       "      <td>17</td>\n",
       "      <td>4483.73</td>\n",
       "    </tr>\n",
       "  </tbody>\n",
       "</table>\n",
       "</div>"
      ],
      "text/plain": [
       "   fare_amount  pickup_longitude  pickup_latitude  dropoff_longitude  \\\n",
       "0          7.5        -73.999817        40.738354         -73.999512   \n",
       "1          7.7        -73.994355        40.728225         -73.994710   \n",
       "2         12.9        -74.005043        40.740770         -73.962565   \n",
       "3          5.3        -73.976124        40.790844         -73.965316   \n",
       "4         16.0        -73.925023        40.744085         -73.973082   \n",
       "\n",
       "   dropoff_latitude  year  month  weekday  hour  distance  \n",
       "0         40.723217  2015      5        3    19   1681.11  \n",
       "1         40.750325  2009      7        4    20   2454.36  \n",
       "2         40.772647  2009      8        0    21   5039.60  \n",
       "3         40.803349  2009      6        4     8   1661.44  \n",
       "4         40.761247  2014      8        3    17   4483.73  "
      ]
     },
     "execution_count": 19,
     "metadata": {},
     "output_type": "execute_result"
    }
   ],
   "source": [
    "data.head()"
   ]
  },
  {
   "cell_type": "code",
   "execution_count": 20,
   "metadata": {},
   "outputs": [
    {
     "data": {
      "text/plain": [
       "(169652, 10)"
      ]
     },
     "execution_count": 20,
     "metadata": {},
     "output_type": "execute_result"
    }
   ],
   "source": [
    "q1=data['distance'].quantile(0.25)\n",
    "q3=data['distance'].quantile(0.75)\n",
    "IQR=q3-q1\n",
    "LB=q1-1.5*IQR\n",
    "UB=q3+1.5*IQR\n",
    "data = data[(data['distance']>=LB) & (data['distance']<=UB) ]\n",
    "data.shape"
   ]
  },
  {
   "cell_type": "code",
   "execution_count": 21,
   "metadata": {},
   "outputs": [
    {
     "data": {
      "text/plain": [
       "(165419, 10)"
      ]
     },
     "execution_count": 21,
     "metadata": {},
     "output_type": "execute_result"
    }
   ],
   "source": [
    "q1=data['fare_amount'].quantile(0.25)\n",
    "q3=data['fare_amount'].quantile(0.75)\n",
    "IQR=q3-q1\n",
    "LB=q1-1.5*IQR\n",
    "UB=q3+1.5*IQR\n",
    "data = data[(data['fare_amount']>=LB) & (data['fare_amount']<=UB) ]\n",
    "data.shape"
   ]
  },
  {
   "cell_type": "code",
   "execution_count": 22,
   "metadata": {},
   "outputs": [
    {
     "data": {
      "text/plain": [
       "0"
      ]
     },
     "execution_count": 22,
     "metadata": {},
     "output_type": "execute_result"
    }
   ],
   "source": [
    "data.describe()\n",
    "\n",
    "data.duplicated().sum()"
   ]
  },
  {
   "cell_type": "code",
   "execution_count": 23,
   "metadata": {},
   "outputs": [
    {
     "name": "stdout",
     "output_type": "stream",
     "text": [
      "<class 'pandas.core.frame.DataFrame'>\n",
      "Index: 165419 entries, 0 to 199999\n",
      "Data columns (total 10 columns):\n",
      " #   Column             Non-Null Count   Dtype  \n",
      "---  ------             --------------   -----  \n",
      " 0   fare_amount        165419 non-null  float64\n",
      " 1   pickup_longitude   165419 non-null  float64\n",
      " 2   pickup_latitude    165419 non-null  float64\n",
      " 3   dropoff_longitude  165419 non-null  float64\n",
      " 4   dropoff_latitude   165419 non-null  float64\n",
      " 5   year               165419 non-null  int32  \n",
      " 6   month              165419 non-null  int32  \n",
      " 7   weekday            165419 non-null  int32  \n",
      " 8   hour               165419 non-null  int32  \n",
      " 9   distance           165419 non-null  float64\n",
      "dtypes: float64(6), int32(4)\n",
      "memory usage: 11.4 MB\n"
     ]
    }
   ],
   "source": [
    "data.drop_duplicates(inplace= True)\n",
    "\n",
    "data.info()"
   ]
  },
  {
   "cell_type": "code",
   "execution_count": 24,
   "metadata": {},
   "outputs": [],
   "source": [
    "from sklearn.preprocessing import LabelEncoder\n",
    "LabelEncoder=LabelEncoder()\n",
    "for column in data.columns:\n",
    "  if data[column].dtype=='object':\n",
    "    data[column] = LabelEncoder.fit_transform(data[column].astype(str))"
   ]
  },
  {
   "cell_type": "code",
   "execution_count": 25,
   "metadata": {},
   "outputs": [],
   "source": [
    "scaler = StandardScaler()\n",
    "features_to_scale = ['pickup_longitude', 'pickup_latitude', 'dropoff_longitude', 'dropoff_latitude','distance']\n",
    "data[features_to_scale] = scaler.fit_transform(data[features_to_scale])\n",
    "\n",
    "x=data.drop('fare_amount',axis=1)\n",
    "y=data['fare_amount']"
   ]
  },
  {
   "cell_type": "code",
   "execution_count": 26,
   "metadata": {},
   "outputs": [],
   "source": [
    "x.head\n",
    "\n",
    "x_train, x_test, y_train, y_test = train_test_split(x, y, test_size=0.3, random_state=42)"
   ]
  },
  {
   "cell_type": "code",
   "execution_count": 27,
   "metadata": {},
   "outputs": [
    {
     "name": "stdout",
     "output_type": "stream",
     "text": [
      "Mean Squared Error of test (Xgboost Regression): 2.459444124700397\n"
     ]
    }
   ],
   "source": [
    "import xgboost as xgb\n",
    "xgb_model=xgb.XGBRegressor()\n",
    "xgb_model.fit(x_train,y_train)\n",
    "y_pred_xgb_test=xgb_model.predict(x_test)\n",
    "xgb_model_mse_test=mean_squared_error(y_test,y_pred_xgb_test)\n",
    "print(f'Mean Squared Error of test (Xgboost Regression): {xgb_model_mse_test}')"
   ]
  },
  {
   "cell_type": "code",
   "execution_count": 29,
   "metadata": {},
   "outputs": [
    {
     "name": "stdout",
     "output_type": "stream",
     "text": [
      "Mean Squared Error (Linear Regression): 3.628382658860243\n"
     ]
    }
   ],
   "source": [
    "LR_model = LinearRegression().fit(x_train, y_train)\n",
    "y_pred_LR = LR_model.predict(x_test)\n",
    "LR_model_mse = mean_squared_error(y_test, y_pred_LR)\n",
    "print(f'Mean Squared Error (Linear Regression): {LR_model_mse}')"
   ]
  },
  {
   "cell_type": "code",
   "execution_count": 30,
   "metadata": {},
   "outputs": [
    {
     "name": "stdout",
     "output_type": "stream",
     "text": [
      "Mean Squared Error (Huber Regression): 4.073466178422943\n"
     ]
    },
    {
     "name": "stderr",
     "output_type": "stream",
     "text": [
      "C:\\Users\\hanim\\AppData\\Roaming\\Python\\Python312\\site-packages\\sklearn\\linear_model\\_huber.py:342: ConvergenceWarning: lbfgs failed to converge (status=1):\n",
      "STOP: TOTAL NO. of ITERATIONS REACHED LIMIT.\n",
      "\n",
      "Increase the number of iterations (max_iter) or scale the data as shown in:\n",
      "    https://scikit-learn.org/stable/modules/preprocessing.html\n",
      "  self.n_iter_ = _check_optimize_result(\"lbfgs\", opt_res, self.max_iter)\n"
     ]
    }
   ],
   "source": [
    "huber_model = HuberRegressor()\n",
    "huber_model.fit(x_train, y_train)\n",
    "y_pred_huber = huber_model.predict(x_test)\n",
    "huber_model_mse = mean_squared_error(y_test, y_pred_huber)\n",
    "print(f'Mean Squared Error (Huber Regression): {huber_model_mse}')"
   ]
  },
  {
   "cell_type": "code",
   "execution_count": 31,
   "metadata": {},
   "outputs": [
    {
     "name": "stdout",
     "output_type": "stream",
     "text": [
      "Mean Squared Error (Ridge Regression): 3.630459436877601\n"
     ]
    }
   ],
   "source": [
    "ridge_model = Ridge(alpha=1.0)\n",
    "ridge_model.fit(x_train, y_train)\n",
    "y_pred_ridge = ridge_model.predict(x_test)\n",
    "ridge_model_mse = mean_squared_error(y_test, y_pred_ridge)\n",
    "print(f'Mean Squared Error (Ridge Regression): {ridge_model_mse}')"
   ]
  },
  {
   "cell_type": "code",
   "execution_count": 32,
   "metadata": {},
   "outputs": [
    {
     "name": "stdout",
     "output_type": "stream",
     "text": [
      "Mean Squared Error (Random Forest): 2.7912470163176555\n"
     ]
    }
   ],
   "source": [
    "random_forest_model = RandomForestRegressor(n_estimators=100, random_state=42)\n",
    "random_forest_model.fit(x_train, y_train)\n",
    "y_pred_rf = random_forest_model.predict(x_test)\n",
    "rf_model_mse = mean_squared_error(y_test, y_pred_rf)\n",
    "print(f'Mean Squared Error (Random Forest): {rf_model_mse}')"
   ]
  },
  {
   "cell_type": "code",
   "execution_count": 33,
   "metadata": {},
   "outputs": [
    {
     "name": "stdout",
     "output_type": "stream",
     "text": [
      "Mean Squared Error (lasso Regression): 5.015153346601952\n"
     ]
    }
   ],
   "source": [
    "lasso_model = Lasso(alpha=1.0)\n",
    "lasso_model.fit(x_train, y_train)\n",
    "y_pred_lasso = lasso_model.predict(x_test)\n",
    "lasso_model_mse = mean_squared_error(y_test, y_pred_lasso)\n",
    "print(f'Mean Squared Error (lasso Regression): {lasso_model_mse}')"
   ]
  },
  {
   "cell_type": "code",
   "execution_count": 34,
   "metadata": {},
   "outputs": [
    {
     "name": "stdout",
     "output_type": "stream",
     "text": [
      "Mean Squared Error (ElasticNet Regression): 5.287270464413518\n"
     ]
    }
   ],
   "source": [
    "elasticnet_model = ElasticNet(alpha=1.0, l1_ratio=0.5)\n",
    "elasticnet_model.fit(x_train, y_train)\n",
    "y_pred_elasticnet = elasticnet_model.predict(x_test)\n",
    "elasticnet_model_mse = mean_squared_error(y_test, y_pred_elasticnet)\n",
    "print(f'Mean Squared Error (ElasticNet Regression): {elasticnet_model_mse}')"
   ]
  },
  {
   "cell_type": "code",
   "execution_count": 35,
   "metadata": {},
   "outputs": [
    {
     "name": "stdout",
     "output_type": "stream",
     "text": [
      "Mean Squared Error (decision tree model): 5.825328599927457\n"
     ]
    }
   ],
   "source": [
    "decision_tree_model = DecisionTreeRegressor(max_depth=None, random_state=42)\n",
    "decision_tree_model.fit(x_train, y_train)\n",
    "y_pred_decision_tree = decision_tree_model.predict(x_test)\n",
    "decision_tree_model_mse = mean_squared_error(y_test, y_pred_decision_tree)\n",
    "print(f'Mean Squared Error (decision tree model): {decision_tree_model_mse}')"
   ]
  },
  {
   "cell_type": "code",
   "execution_count": 36,
   "metadata": {},
   "outputs": [
    {
     "data": {
      "text/html": [
       "<div>\n",
       "<style scoped>\n",
       "    .dataframe tbody tr th:only-of-type {\n",
       "        vertical-align: middle;\n",
       "    }\n",
       "\n",
       "    .dataframe tbody tr th {\n",
       "        vertical-align: top;\n",
       "    }\n",
       "\n",
       "    .dataframe thead th {\n",
       "        text-align: right;\n",
       "    }\n",
       "</style>\n",
       "<table border=\"1\" class=\"dataframe\">\n",
       "  <thead>\n",
       "    <tr style=\"text-align: right;\">\n",
       "      <th></th>\n",
       "      <th>fare_amount</th>\n",
       "      <th>pickup_longitude</th>\n",
       "      <th>pickup_latitude</th>\n",
       "      <th>dropoff_longitude</th>\n",
       "      <th>dropoff_latitude</th>\n",
       "      <th>year</th>\n",
       "      <th>month</th>\n",
       "      <th>weekday</th>\n",
       "      <th>hour</th>\n",
       "      <th>distance</th>\n",
       "    </tr>\n",
       "  </thead>\n",
       "  <tbody>\n",
       "    <tr>\n",
       "      <th>0</th>\n",
       "      <td>7.5</td>\n",
       "      <td>-0.030638</td>\n",
       "      <td>0.016865</td>\n",
       "      <td>-0.030974</td>\n",
       "      <td>0.010690</td>\n",
       "      <td>2015</td>\n",
       "      <td>5</td>\n",
       "      <td>3</td>\n",
       "      <td>19</td>\n",
       "      <td>-0.398120</td>\n",
       "    </tr>\n",
       "    <tr>\n",
       "      <th>1</th>\n",
       "      <td>7.7</td>\n",
       "      <td>-0.028491</td>\n",
       "      <td>0.012789</td>\n",
       "      <td>-0.029087</td>\n",
       "      <td>0.021598</td>\n",
       "      <td>2009</td>\n",
       "      <td>7</td>\n",
       "      <td>4</td>\n",
       "      <td>20</td>\n",
       "      <td>0.165082</td>\n",
       "    </tr>\n",
       "    <tr>\n",
       "      <th>2</th>\n",
       "      <td>12.9</td>\n",
       "      <td>-0.032691</td>\n",
       "      <td>0.017837</td>\n",
       "      <td>-0.016455</td>\n",
       "      <td>0.030580</td>\n",
       "      <td>2009</td>\n",
       "      <td>8</td>\n",
       "      <td>0</td>\n",
       "      <td>21</td>\n",
       "      <td>2.048058</td>\n",
       "    </tr>\n",
       "    <tr>\n",
       "      <th>3</th>\n",
       "      <td>5.3</td>\n",
       "      <td>-0.021327</td>\n",
       "      <td>0.037986</td>\n",
       "      <td>-0.017536</td>\n",
       "      <td>0.042934</td>\n",
       "      <td>2009</td>\n",
       "      <td>6</td>\n",
       "      <td>4</td>\n",
       "      <td>8</td>\n",
       "      <td>-0.412447</td>\n",
       "    </tr>\n",
       "    <tr>\n",
       "      <th>4</th>\n",
       "      <td>16.0</td>\n",
       "      <td>-0.001245</td>\n",
       "      <td>0.019171</td>\n",
       "      <td>-0.020588</td>\n",
       "      <td>0.025993</td>\n",
       "      <td>2014</td>\n",
       "      <td>8</td>\n",
       "      <td>3</td>\n",
       "      <td>17</td>\n",
       "      <td>1.643187</td>\n",
       "    </tr>\n",
       "  </tbody>\n",
       "</table>\n",
       "</div>"
      ],
      "text/plain": [
       "   fare_amount  pickup_longitude  pickup_latitude  dropoff_longitude  \\\n",
       "0          7.5         -0.030638         0.016865          -0.030974   \n",
       "1          7.7         -0.028491         0.012789          -0.029087   \n",
       "2         12.9         -0.032691         0.017837          -0.016455   \n",
       "3          5.3         -0.021327         0.037986          -0.017536   \n",
       "4         16.0         -0.001245         0.019171          -0.020588   \n",
       "\n",
       "   dropoff_latitude  year  month  weekday  hour  distance  \n",
       "0          0.010690  2015      5        3    19 -0.398120  \n",
       "1          0.021598  2009      7        4    20  0.165082  \n",
       "2          0.030580  2009      8        0    21  2.048058  \n",
       "3          0.042934  2009      6        4     8 -0.412447  \n",
       "4          0.025993  2014      8        3    17  1.643187  "
      ]
     },
     "execution_count": 36,
     "metadata": {},
     "output_type": "execute_result"
    }
   ],
   "source": [
    "import pickle\n",
    "\n",
    "filename = \"XGboost.pkl\"\n",
    "pickle.dump(xgb_model, open(filename, \"wb\"))\n",
    "\n",
    "\n",
    "data.head(5)"
   ]
  }
 ],
 "metadata": {
  "kernelspec": {
   "display_name": "Python 3",
   "language": "python",
   "name": "python3"
  },
  "language_info": {
   "codemirror_mode": {
    "name": "ipython",
    "version": 3
   },
   "file_extension": ".py",
   "mimetype": "text/x-python",
   "name": "python",
   "nbconvert_exporter": "python",
   "pygments_lexer": "ipython3",
   "version": "3.12.1"
  }
 },
 "nbformat": 4,
 "nbformat_minor": 2
}
